{
  "nbformat": 4,
  "nbformat_minor": 0,
  "metadata": {
    "colab": {
      "name": "Ejercicios_T1.ipynb",
      "provenance": [],
      "collapsed_sections": []
    },
    "kernelspec": {
      "name": "python3",
      "display_name": "Python 3"
    },
    "language_info": {
      "name": "python"
    }
  },
  "cells": [
    {
      "cell_type": "markdown",
      "source": [
        "## Importamos librerías"
      ],
      "metadata": {
        "id": "ctgg3tv4d4a9"
      }
    },
    {
      "cell_type": "code",
      "execution_count": 4,
      "metadata": {
        "id": "FNuY3zZTdbtN"
      },
      "outputs": [],
      "source": [
        "from sympy import *             # Librería para trabajo simbólico\n",
        "import numpy as np              # Librería para cálculo numérico\n",
        "import math                     # Librería para utilizar símbolos matemáticos como el número pi, que se escribe como math.pi\n",
        "import matplotlib.pyplot as plt # Librería para poder dibujar gráficas\n",
        "from scipy import integrate     # Librería de integración"
      ]
    },
    {
      "cell_type": "markdown",
      "source": [
        "### Ejercicio \n",
        "\n",
        "Un gas con masa 1 kg y a una presión de  $P_1=1$ bar se encuentra contenido  en un dispositivo cilindro-pistón con un volumen inicial $V_1=1$ m$^3$. Considerando un proceso politrópico:\n",
        "\n",
        "$$PV^n=C$$\n",
        "\n",
        "a) Determinar $P_2$ si $n=1.1$ y $V_2=2$ m$^3$.\n",
        "\n",
        "b) Determinar $P_2$ si se considera un proceso isotermo y $V_2=2$ m$^3$.\n",
        "\n",
        "c) Determinar $P_2$ si se considera un proceso adiabatico y $V_2=2$ m$^3$.\n",
        "\n",
        "d) Determinar $P_2$ si se considera un proceso isóbaro y $V_2=2$ m$^3$."
      ],
      "metadata": {
        "id": "NwGQFoff3FOA"
      }
    },
    {
      "cell_type": "code",
      "source": [
        "P1=1.0 #bar\n",
        "V1= 1.0  #m3\n",
        "\n",
        "# a)\n",
        "n=1.1\n",
        "V2=2.0\n",
        "P2=(P1*V1**n)/(V2**n)\n",
        "print(\"a) La presión es es:\", P2, \"bar\")\n",
        "\n",
        "# b)\n",
        "n=1.0\n",
        "V2=2.0\n",
        "P2=(P1*V1**n)/(V2**n)\n",
        "print(\"b) La presión es es:\", P2, \"bar\")\n",
        "\n",
        "# c)\n",
        "n=1.4\n",
        "V2=2.0\n",
        "P2=(P1*V1**n)/(V2**n)\n",
        "print(\"c) La presión es es:\", P2, \"bar\")\n",
        "\n",
        "# d)\n",
        "n=0\n",
        "V2=2.0\n",
        "P2=(P1*V1**n)/(V2**n)\n",
        "print(\"d) La presión es es:\", P2, \"bar\")"
      ],
      "metadata": {
        "colab": {
          "base_uri": "https://localhost:8080/"
        },
        "id": "QDKVuaWO6TUj",
        "outputId": "c3fefdfe-8035-4d86-d71a-fe2f8cfaa2dc"
      },
      "execution_count": 5,
      "outputs": [
        {
          "output_type": "stream",
          "name": "stdout",
          "text": [
            "a) La presión es es: 0.4665164957684037 bar\n",
            "b) La presión es es: 0.5 bar\n",
            "c) La presión es es: 0.37892914162759955 bar\n",
            "d) La presión es es: 1.0 bar\n"
          ]
        }
      ]
    },
    {
      "cell_type": "markdown",
      "source": [
        "### Problema 5\n",
        "\n",
        "Un gas en un dispositivo cilindro-pistón sufre un proceso de expansión para el que la relación entre la presión y el volumen viene dada por:\n",
        "\n",
        "$$PV^n=C$$\n",
        "\n",
        "Si $P_1=3$ bar, $V_1=0.1$ m$^3$ y $V_2=0.2$ m$^3$. Determínese el trabajo, en kJ, para el proceso, si:\n",
        "\n",
        "a) $n=1.5$\n",
        "\n",
        "b) $n=1.0$\n",
        "\n",
        "c) $n=0$"
      ],
      "metadata": {
        "id": "spnZkA_3zQMx"
      }
    },
    {
      "cell_type": "markdown",
      "source": [
        "### Resolución:\n",
        "\n",
        "Incluye definción de funciones, representación gráfica y calculo de la integral"
      ],
      "metadata": {
        "id": "FJBbg3y_e6Vs"
      }
    },
    {
      "cell_type": "code",
      "source": [
        "P1=3.0*100000 #Presion en Pa\n",
        "V1=0.1\n",
        "V2=0.2\n",
        "\n",
        "V=symbols('V')\n",
        "\n",
        "def Pa(V):\n",
        "    n=1.5\n",
        "    C=P1*V1**n\n",
        "    return C/V**n\n",
        "\n",
        "def Pb(V):\n",
        "    n=1.0\n",
        "    C=P1*V1**n\n",
        "    return C/V**n    \n",
        "\n",
        "def Pc(V):\n",
        "    n=0\n",
        "    C=P1*V1**n\n",
        "    return C/V**n  \n",
        "\n",
        "npt=100\n",
        "V12 = np.linspace(V1, V2, npt) # la instrucción np.linspace(V1, V2, npt) genera un array de \"npt\" valores entre V1 y V2\n",
        "#print(\"Los valores de V entre V1 y V2 son\")\n",
        "#print(V12)\n",
        "\n",
        "P12a = Pa(V12) #Si evaluamos la función Pa pasándole el array entero V12, nos devuelve otro array P12a de presiones.\n",
        "P12b = Pb(V12)\n",
        "P12c = Pc(V12)\n",
        "\n",
        "fig, ax1 = plt.subplots(figsize=(12, 5)) #con esta intrucción creamos una figura \"fig\", con ejes llamados \"ax1\", de tamaño 12x5\n",
        "ax1.plot(V12,P12a) #dibuja la función P12a \n",
        "ax1.plot(V12,P12b)\n",
        "ax1.plot(V12,P12c)\n",
        "ax1.set_xlabel(\"V (m^3)\") #etiqueta del eje x\n",
        "ax1.set_ylabel(\"P (Pa)\")  #etiqueta del eje y\n",
        "\n",
        "\n",
        "print(\"La función P(V) del apartado a) es:\", Pa(V), \"y el trabajo en J es:\")\n",
        "print(integrate.quad(Pa, V1, V2)) #integral definida de Pa·dV  entre V1 y V2\n",
        "print(\"La función P(V) del apartado b) es:\", Pb(V), \"y el trabajo en J es:\")\n",
        "print(integrate.quad(Pb, V1, V2))\n",
        "print(\"La función P(V) del apartado c) es:\", Pc(V), \"y el trabajo en J es:\")\n",
        "print(integrate.quad(Pc, V1, V2))\n",
        "\n",
        "print(\"El trabajo en J es:\", (Pa(V2)*V2-P1*V1)/(1-1.5))\n",
        "\n",
        "\n",
        "Vaux=V12\n",
        "Paux=P12a\n",
        "Wexact=integrate.quad(Pa, V1, V2)"
      ],
      "metadata": {
        "colab": {
          "base_uri": "https://localhost:8080/",
          "height": 458
        },
        "id": "IFtZBEaEb-Hg",
        "outputId": "568788d3-ce05-4827-ca65-f181d7360dcf"
      },
      "execution_count": 6,
      "outputs": [
        {
          "output_type": "stream",
          "name": "stdout",
          "text": [
            "La función P(V) del apartado a) es: 9486.83298050514*V**(-1.5) y el trabajo en J es:\n",
            "(17573.593128807148, 1.951060771699614e-10)\n",
            "La función P(V) del apartado b) es: 30000.0*V**(-1.0) y el trabajo en J es:\n",
            "(20794.415416798358, 2.308643877934986e-10)\n",
            "La función P(V) del apartado c) es: 300000.000000000 y el trabajo en J es:\n",
            "(30000.0, 3.3306690738754696e-10)\n",
            "El trabajo en J es: 17573.593128807144\n"
          ]
        },
        {
          "output_type": "display_data",
          "data": {
            "image/png": "[encoded data removed]",
            "text/plain": [
              "<Figure size 864x360 with 1 Axes>"
            ]
          },
          "metadata": {
            "needs_background": "light"
          }
        }
      ]
    },
    {
      "cell_type": "markdown",
      "source": [
        "### Resolución numérica (Opcional)\n",
        "\n",
        "Aqui vamos a resolver el apartado a) \"sin hacer integrales\". Para ello se utilizará lo que se denomina \"integración numérica\", que se basa en trocear el area bajo la curva utilizando trapecios y sumar el area de cada uno de esos trozos."
      ],
      "metadata": {
        "id": "dmrasiEafbsq"
      }
    },
    {
      "cell_type": "code",
      "source": [
        "npt=4   #numero de puntos escogidos. Modificar para ver lo que ocurre...\n",
        "V12 = np.linspace(V1, V2, npt)\n",
        "\n",
        "P12a = Pa(V12)\n",
        "\n",
        "fig, ax1 = plt.subplots(figsize=(12, 5))\n",
        "ax1.plot(V12,P12a,'-ok')\n",
        "ax1.fill_between(V12,np.zeros(npt),P12a)\n",
        "\n",
        "sum=0.0\n",
        "for ii in range(len(V12)): #bucle entre 0 y len(V12)-1, donde len(V12) es la longitud del array V12 (es decir, npt)\n",
        "  ax1.plot([V12[ii],V12[ii]],[0,P12a[ii]],'-k')\n",
        "  if ii<(len(V12)-1):\n",
        "    sum+=0.5*(P12a[ii]+P12a[ii+1])*(V12[ii+1]-V12[ii]) #Regla del trapecio de integración numérica: se suman las areas de los trapecios\n",
        "\n",
        "ax1.plot(Vaux,Paux,'--r') #esta es la curva exacta\n",
        "ax1.set_xlabel(\"V (m^3)\") \n",
        "ax1.set_ylabel(\"P (Pa)\")  \n",
        "\n",
        "\n",
        "print(\"La integral aproximada es:\")\n",
        "print(sum, \" J\\n\")\n",
        "print(\"Se han usado\", npt-1, \"trapecios y el error es:\")\n",
        "print(sum-Wexact[0], \" J\\n\")\n",
        "\n"
      ],
      "metadata": {
        "colab": {
          "base_uri": "https://localhost:8080/",
          "height": 440
        },
        "id": "vlwnpUfhev50",
        "outputId": "59c42461-2797-4ae0-96bc-f632d74b57a0"
      },
      "execution_count": 7,
      "outputs": [
        {
          "output_type": "stream",
          "name": "stdout",
          "text": [
            "La integral aproximada es:\n",
            "17910.537496798563  J\n",
            "\n",
            "Se han usado 3 trapecios y el error es:\n",
            "336.94436799141477  J\n",
            "\n"
          ]
        },
        {
          "output_type": "display_data",
          "data": {
            "image/png": "[encoded data removed]",
            "text/plain": [
              "<Figure size 864x360 with 1 Axes>"
            ]
          },
          "metadata": {
            "needs_background": "light"
          }
        }
      ]
    },
    {
      "cell_type": "code",
      "source": [
        "V1= 0.09  #m3\n",
        "V2= 0.03  #m3\n",
        "\n",
        "def Pres(V):\n",
        "    return (-14*V+2.44)*1.e5\n",
        "\n",
        "P1=Pres(V1)\n",
        "P2=Pres(V2)\n",
        "\n",
        "print(P1,P2)\n",
        "\n",
        "print(integrate.quad(Pres, V1, V2))\n",
        "\n",
        "print(1.18*(0.09-0.03)+(2.02-1.18)*0.5*(0.09-0.03))"
      ],
      "metadata": {
        "colab": {
          "base_uri": "https://localhost:8080/"
        },
        "id": "wJqZUjNciVOS",
        "outputId": "7d22a2ba-cb02-4df6-fbca-a393a176509a"
      },
      "execution_count": 8,
      "outputs": [
        {
          "output_type": "stream",
          "name": "stdout",
          "text": [
            "118000.0 202000.0\n",
            "(-9600.0, 1.0658141036401503e-10)\n",
            "0.09599999999999999\n"
          ]
        }
      ]
    }
  ]
}